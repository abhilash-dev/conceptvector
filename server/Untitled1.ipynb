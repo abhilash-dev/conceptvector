{
 "cells": [
  {
   "cell_type": "code",
   "execution_count": 3,
   "metadata": {},
   "outputs": [],
   "source": [
    "import pickle\n",
    "from bs4 import BeautifulSoup"
   ]
  },
  {
   "cell_type": "code",
   "execution_count": 5,
   "metadata": {},
   "outputs": [
    {
     "name": "stdout",
     "output_type": "stream",
     "text": [
      "1286\n"
     ]
    }
   ],
   "source": [
    "with open('../experiment/sea_article/comment.html','r') as myfile:\n",
    "    data=myfile.read().replace('\\n','')\n",
    "soup = BeautifulSoup(data,'html.parser')\n",
    "comments = soup.find_all('article')\n",
    "\n",
    "print(len(comments))"
   ]
  },
  {
   "cell_type": "code",
   "execution_count": 9,
   "metadata": {},
   "outputs": [
    {
     "name": "stdout",
     "output_type": "stream",
     "text": [
      "<article class=\"comment \" data-id=\"17674096\" data-parentid=\"0\" data-permid=\"17674096\" data-sequence=\"17674096\" data-url=\"https://www.nytimes.com/2016/02/23/science/sea-level-rise-global-warming-climate-change.html#permid=17674096\" tabindex=\"30\"> <div class=\"avatar avatar-loaded show-avatar\"><img src=\"https://s3.amazonaws.com/pimage.timespeople.nytimes.com/6905/1443/cropped-69051443.jpg\"/></div> <header> <h3 class=\"commenter\">Air Marshal of Bloviana</h3> <span class=\"commenter-location\">Over the Fruited Plain</span> <a class=\"comment-time\" datetime=\"\" href=\"https://www.nytimes.com/2016/02/23/science/sea-level-rise-global-warming-climate-change.html#permid=17674096\">February 23, 2016</a> </header> <p class=\"comment-text\">Look on the bright side, when sea water levels start to rise I'll have several electric car batteries within ten miles to keep the Minkota pushing my eco-friendly aluminum launch for years.</p> <footer> <ul class=\"comment-actions\"> <li class=\"comment-flag login-modal-trigger \"><i class=\"icon sprite-icon\"></i>Flag</li> <li class=\"comment-recommend login-modal-trigger \"><span class=\"recommend-count\"><i class=\"icon sprite-icon\"></i>1</span>Recommend</li> <li class=\"sharetools\"><span class=\"facebook-share\" data-share=\"facebook\"><i class=\"icon sprite-icon\"></i><span class=\"visually-hidden\">Share this comment on Facebook</span></span><span class=\"twitter-share\" data-share=\"twitter\"><i class=\"icon sprite-icon\"></i><span class=\"visually-hidden\">Share this comment on Twitter</span></span> </li> </ul> </footer> <div class=\"comment-form-control form-control reply-form-control active\"></div> </article>\n"
     ]
    }
   ],
   "source": [
    "print comments[1]"
   ]
  }
 ],
 "metadata": {
  "kernelspec": {
   "display_name": "Python 2",
   "language": "python",
   "name": "python2"
  },
  "language_info": {
   "codemirror_mode": {
    "name": "ipython",
    "version": 2
   },
   "file_extension": ".py",
   "mimetype": "text/x-python",
   "name": "python",
   "nbconvert_exporter": "python",
   "pygments_lexer": "ipython2",
   "version": "2.7.15"
  }
 },
 "nbformat": 4,
 "nbformat_minor": 2
}
